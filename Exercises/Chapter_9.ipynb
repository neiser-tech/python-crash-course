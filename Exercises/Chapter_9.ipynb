{
  "nbformat": 4,
  "nbformat_minor": 0,
  "metadata": {
    "colab": {
      "provenance": [],
      "authorship_tag": "ABX9TyPfjMHxOlmRpph5IpUNJJrj",
      "include_colab_link": true
    },
    "kernelspec": {
      "name": "python3",
      "display_name": "Python 3"
    },
    "language_info": {
      "name": "python"
    }
  },
  "cells": [
    {
      "cell_type": "markdown",
      "metadata": {
        "id": "view-in-github",
        "colab_type": "text"
      },
      "source": [
        "<a href=\"https://colab.research.google.com/github/neiser-tech/python-crash-course/blob/main/Exercises/Chapter_9.ipynb\" target=\"_parent\"><img src=\"https://colab.research.google.com/assets/colab-badge.svg\" alt=\"Open In Colab\"/></a>"
      ]
    },
    {
      "cell_type": "markdown",
      "source": [
        "#Creating and Using a Class\n"
      ],
      "metadata": {
        "id": "nqguNtlQLppT"
      }
    },
    {
      "cell_type": "code",
      "execution_count": null,
      "metadata": {
        "id": "pKrT63yiLgpX",
        "colab": {
          "base_uri": "https://localhost:8080/"
        },
        "outputId": "0f96e5e0-5400-4ba7-9f71-6e7d46a1cb4b"
      },
      "outputs": [
        {
          "output_type": "stream",
          "name": "stdout",
          "text": [
            "Pizzaa Hut\n",
            "Pizza\n",
            "The restaurant name is Pizzaa Hut and the cuisine type is Pizza\n",
            "Pizzaa Hut is now open\n"
          ]
        }
      ],
      "source": [
        "#9.1 Restaurant\n",
        "\n",
        "class Restaurant:\n",
        "    def __init__(self,restaurant_name,cuisine_type):\n",
        "        self.restaurant_name = restaurant_name\n",
        "        self.cuisine_type = cuisine_type\n",
        "\n",
        "    def describe_restaurant(self):\n",
        "        print(f\"The restaurant name is {self.restaurant_name} and the cuisine type is {self.cuisine_type}\")\n",
        "\n",
        "    def open_restaurant(self):\n",
        "        print(f\"{self.restaurant_name} is now open\")\n",
        "\n",
        "restaurant = Restaurant(\"Pizzaa Hut\",\"Pizza\")\n",
        "print(restaurant.restaurant_name)\n",
        "print(restaurant.cuisine_type)\n",
        "restaurant.describe_restaurant()\n",
        "restaurant.open_restaurant()"
      ]
    },
    {
      "cell_type": "code",
      "source": [
        "#9.2 three Restaurants\n",
        "\n",
        "class Restaurant:\n",
        "    def __init__(self,restaurant_name,cuisine_type):\n",
        "        self.restaurant_name = restaurant_name\n",
        "        self.cuisine_type = cuisine_type\n",
        "\n",
        "    def describe_restaurant(self):\n",
        "        print(f\"The restaurant name is {self.restaurant_name} and the cuisine type is {self.cuisine_type}\")\n",
        "\n",
        "    def open_restaurant(self):\n",
        "        print(f\"{self.restaurant_name} is now open\")\n",
        "\n",
        "restaurant_1 = Restaurant(\"Pizzaa Hut\",\"Pizza\")\n",
        "restaurant_2 = Restaurant(\"KFC\",\"Fast food\")\n",
        "restaurant_3 = Restaurant(\"Bembos\",\"hamburger\")\n",
        "\n",
        "restaurant_1.describe_restaurant()\n",
        "restaurant_2.describe_restaurant()\n",
        "restaurant_3.describe_restaurant()"
      ],
      "metadata": {
        "id": "InX9xb6KLz55",
        "colab": {
          "base_uri": "https://localhost:8080/"
        },
        "outputId": "1e9ad2f5-2e3e-473b-ff9a-c46893b86181"
      },
      "execution_count": null,
      "outputs": [
        {
          "output_type": "stream",
          "name": "stdout",
          "text": [
            "The restaurant name is Pizzaa Hut and the cuisine type is Pizza\n",
            "The restaurant name is KFC and the cuisine type is Fast food\n",
            "The restaurant name is Bembos and the cuisine type is hamburger\n"
          ]
        }
      ]
    },
    {
      "cell_type": "markdown",
      "source": [
        "#Working with Classes and Instances"
      ],
      "metadata": {
        "id": "jY16qYbUL3YC"
      }
    },
    {
      "cell_type": "code",
      "source": [
        "#9.3 Users\n",
        "\n",
        "class User:\n",
        "    def __init__(self,first_name,last_name, birthday):\n",
        "        self.first_name = first_name\n",
        "        self.last_name = last_name\n",
        "        self.birthday = birthday\n",
        "\n",
        "    def describe_user(self):\n",
        "        print(f\"The user name is {self.first_name} {self.last_name} and the birthday is {self.birthday}\")\n",
        "\n",
        "    def greet_user(self):\n",
        "        print(f\"Hello {self.first_name} {self.last_name}\")\n",
        "\n",
        "user_1 = User(\"John\",\"Doe\",\"01/01/1990\")\n",
        "user_1.describe_user()\n",
        "user_1.greet_user()"
      ],
      "metadata": {
        "id": "CuSgHEMHL2XR",
        "colab": {
          "base_uri": "https://localhost:8080/"
        },
        "outputId": "4f6d8c06-cb6d-403f-fe43-8ca94ec3e6a2"
      },
      "execution_count": null,
      "outputs": [
        {
          "output_type": "stream",
          "name": "stdout",
          "text": [
            "The user name is John Doe and the birthday is 01/01/1990\n",
            "Hello John Doe\n"
          ]
        }
      ]
    },
    {
      "cell_type": "code",
      "source": [
        "#9.4 Number Served\n",
        "\n",
        "class Restaurant:\n",
        "    def __init__(self,restaurant_name,cuisine_type):\n",
        "        self.restaurant_name = restaurant_name\n",
        "        self.cuisine_type = cuisine_type\n",
        "        self.number_served = 0\n",
        "\n",
        "    def describe_restaurant(self):\n",
        "        print(f\"The restaurant name is {self.restaurant_name} and the cuisine type is {self.cuisine_type}\")\n",
        "\n",
        "    def open_restaurant(self):\n",
        "        print(f\"{self.restaurant_name} is now open\")\n",
        "\n",
        "    def set_number_served(self,number_served):\n",
        "\n",
        "        if number_served >= self.number_served:\n",
        "            self.number_served = number_served\n",
        "        else:\n",
        "            print(\"Number of customers served cannot be less than the previous value\")\n",
        "\n",
        "    def increment_number_served(self,number_served):\n",
        "\n",
        "        if number_served >= 0:\n",
        "            self.number_served += number_served\n",
        "\n",
        "restaurant = Restaurant(\"Pizzaa Hut\",\"Pizza\")\n",
        "print(restaurant.restaurant_name)\n",
        "print(f\"Number of customers served: {restaurant.number_served}\")\n",
        "\n",
        "restaurant.number_served = 15\n",
        "print(f\"Number of customers served: {restaurant.number_served}\")\n",
        "\n",
        "restaurant.set_number_served(20)\n",
        "print(f\"Number of customers served: {restaurant.number_served}\")\n",
        "\n",
        "restaurant.increment_number_served(2)\n",
        "print(f\"Number of customers served: {restaurant.number_served}\")"
      ],
      "metadata": {
        "id": "P6dD0GLYL7R5",
        "colab": {
          "base_uri": "https://localhost:8080/"
        },
        "outputId": "c939608b-ede9-4763-90b4-2d04c70a7dea"
      },
      "execution_count": null,
      "outputs": [
        {
          "output_type": "stream",
          "name": "stdout",
          "text": [
            "Pizzaa Hut\n",
            "Number of customers served: 0\n",
            "Number of customers served: 15\n",
            "Number of customers served: 20\n",
            "Number of customers served: 22\n"
          ]
        }
      ]
    },
    {
      "cell_type": "code",
      "source": [
        "#9.5 Login Attempts\n",
        "\n",
        "class User:\n",
        "    def __init__(self, first_name, last_name, birthday):\n",
        "        self.first_name = first_name\n",
        "        self.last_name = last_name\n",
        "        self.birthday = birthday\n",
        "        self.login_attempts = 0\n",
        "\n",
        "\n",
        "    def describe_user(self):\n",
        "        print(f\"The user name is {self.first_name} {self.last_name} and the birthday is {self.birthday}\")\n",
        "\n",
        "    def greet_user(self):\n",
        "        print(f\"Hello {self.first_name} {self.last_name}\")\n",
        "\n",
        "    def increment_login_attempts(self):\n",
        "        self.login_attempts += 1\n",
        "\n",
        "    def reset_login_attempts(self):\n",
        "        self.login_attempts = 0\n",
        "\n",
        "# Example usage\n",
        "user_1 = User(\"John\", \"Doe\", \"01/01/1990\")\n",
        "\n",
        "user_1.increment_login_attempts()\n",
        "user_1.increment_login_attempts()\n",
        "user_1.increment_login_attempts()\n",
        "\n",
        "print(f\"Login attempts: {user_1.login_attempts}\")  # Output: Login attempts: 3\n",
        "\n",
        "user_1.reset_login_attempts()\n",
        "print(f\"Login attempts after reset: {user_1.login_attempts}\")  # Output: Login attempts after reset: 0"
      ],
      "metadata": {
        "id": "1U65BsPbL-Ir",
        "colab": {
          "base_uri": "https://localhost:8080/"
        },
        "outputId": "3afa6fa4-b543-43dc-f3c3-5f3abd545726"
      },
      "execution_count": null,
      "outputs": [
        {
          "output_type": "stream",
          "name": "stdout",
          "text": [
            "Login attempts: 3\n",
            "Login attempts after reset: 0\n"
          ]
        }
      ]
    },
    {
      "cell_type": "markdown",
      "source": [
        "#Inheritance"
      ],
      "metadata": {
        "id": "f-tvSnUSMAup"
      }
    },
    {
      "cell_type": "code",
      "source": [],
      "metadata": {
        "id": "hXd7AlXLi-V3"
      },
      "execution_count": null,
      "outputs": []
    }
  ]
}