{
  "nbformat": 4,
  "nbformat_minor": 0,
  "metadata": {
    "colab": {
      "provenance": [],
      "authorship_tag": "ABX9TyPklXO0Ld288FH1Yxv2SV03",
      "include_colab_link": true
    },
    "kernelspec": {
      "name": "python3",
      "display_name": "Python 3"
    },
    "language_info": {
      "name": "python"
    }
  },
  "cells": [
    {
      "cell_type": "markdown",
      "metadata": {
        "id": "view-in-github",
        "colab_type": "text"
      },
      "source": [
        "<a href=\"https://colab.research.google.com/github/neiser-tech/python-crash-course/blob/main/Exercises/Chapter_9.ipynb\" target=\"_parent\"><img src=\"https://colab.research.google.com/assets/colab-badge.svg\" alt=\"Open In Colab\"/></a>"
      ]
    },
    {
      "cell_type": "markdown",
      "source": [
        "#Creating and Using a Class\n"
      ],
      "metadata": {
        "id": "nqguNtlQLppT"
      }
    },
    {
      "cell_type": "code",
      "execution_count": null,
      "metadata": {
        "id": "pKrT63yiLgpX",
        "colab": {
          "base_uri": "https://localhost:8080/"
        },
        "outputId": "00b4f638-3e54-4c3f-c0de-e4803ef709eb"
      },
      "outputs": [
        {
          "output_type": "stream",
          "name": "stdout",
          "text": [
            "Pizzaa Hut\n",
            "Pizza\n",
            "The restaurant name is Pizzaa Hut and the cuisine type is Pizza\n",
            "Pizzaa Hut is now open\n"
          ]
        }
      ],
      "source": [
        "#9.1 Restaurant\n",
        "\n",
        "class Restaurant:\n",
        "    def __init__(self,restaurant_name,cuisine_type):\n",
        "        self.restaurant_name = restaurant_name\n",
        "        self.cuisine_type = cuisine_type\n",
        "\n",
        "    def describe_restaurant(self):\n",
        "        print(f\"The restaurant name is {self.restaurant_name} and the cuisine type is {self.cuisine_type}\")\n",
        "\n",
        "    def open_restaurant(self):\n",
        "        print(f\"{self.restaurant_name} is now open\")\n",
        "\n",
        "restaurant = Restaurant(\"Pizzaa Hut\",\"Pizza\")\n",
        "print(restaurant.restaurant_name)\n",
        "print(restaurant.cuisine_type)\n",
        "restaurant.describe_restaurant()\n",
        "restaurant.open_restaurant()"
      ]
    },
    {
      "cell_type": "code",
      "source": [
        "#9.2 three Restaurants\n",
        "\n",
        "class Restaurant:\n",
        "    def __init__(self,restaurant_name,cuisine_type):\n",
        "        self.restaurant_name = restaurant_name\n",
        "        self.cuisine_type = cuisine_type\n",
        "\n",
        "    def describe_restaurant(self):\n",
        "        print(f\"The restaurant name is {self.restaurant_name} and the cuisine type is {self.cuisine_type}\")\n",
        "\n",
        "    def open_restaurant(self):\n",
        "        print(f\"{self.restaurant_name} is now open\")\n",
        "\n",
        "restaurant_1 = Restaurant(\"Pizzaa Hut\",\"Pizza\")\n",
        "restaurant_2 = Restaurant(\"KFC\",\"Fast food\")\n",
        "restaurant_3 = Restaurant(\"Bembos\",\"hamburger\")\n",
        "\n",
        "restaurant_1.describe_restaurant()\n",
        "restaurant_2.describe_restaurant()\n",
        "restaurant_3.describe_restaurant()"
      ],
      "metadata": {
        "id": "InX9xb6KLz55",
        "colab": {
          "base_uri": "https://localhost:8080/"
        },
        "outputId": "d07080a5-2df4-4c88-c812-8cbea075f289"
      },
      "execution_count": null,
      "outputs": [
        {
          "output_type": "stream",
          "name": "stdout",
          "text": [
            "The restaurant name is Pizzaa Hut and the cuisine type is Pizza\n",
            "The restaurant name is KFC and the cuisine type is Fast food\n",
            "The restaurant name is Bembos and the cuisine type is hamburger\n"
          ]
        }
      ]
    },
    {
      "cell_type": "markdown",
      "source": [
        "#Working with Classes and Instances"
      ],
      "metadata": {
        "id": "jY16qYbUL3YC"
      }
    },
    {
      "cell_type": "code",
      "source": [
        "#9.3 Users\n",
        "\n",
        "class User:\n",
        "    def __init__(self,first_name,last_name, birthday):\n",
        "        self.first_name = first_name\n",
        "        self.last_name = last_name\n",
        "        self.birthday = birthday\n",
        "\n",
        "    def describe_user(self):\n",
        "        print(f\"The user name is {self.first_name} {self.last_name} and the birthday is {self.birthday}\")\n",
        "\n",
        "    def greet_user(self):\n",
        "        print(f\"Hello {self.first_name} {self.last_name}\")\n",
        "\n",
        "user_1 = User(\"Neiser\",\"Julca\",\"01/01/2000\")\n",
        "user_1.describe_user()\n",
        "user_1.greet_user()"
      ],
      "metadata": {
        "id": "CuSgHEMHL2XR",
        "colab": {
          "base_uri": "https://localhost:8080/"
        },
        "outputId": "e8e29c4e-ded4-4a19-8636-bc95775b59ae"
      },
      "execution_count": null,
      "outputs": [
        {
          "output_type": "stream",
          "name": "stdout",
          "text": [
            "The user name is Neiser Julca and the birthday is 01/01/2000\n",
            "Hello Neiser Julca\n"
          ]
        }
      ]
    },
    {
      "cell_type": "code",
      "source": [
        "#9.4 Number Served\n",
        "\n",
        "class Restaurant:\n",
        "    def __init__(self,restaurant_name,cuisine_type):\n",
        "        self.restaurant_name = restaurant_name\n",
        "        self.cuisine_type = cuisine_type\n",
        "        self.number_served = 0\n",
        "\n",
        "    def describe_restaurant(self):\n",
        "        print(f\"The restaurant name is {self.restaurant_name} and the cuisine type is {self.cuisine_type}\")\n",
        "\n",
        "    def open_restaurant(self):\n",
        "        print(f\"{self.restaurant_name} is now open\")\n",
        "\n",
        "    def set_number_served(self,number_served):\n",
        "\n",
        "        if number_served >= self.number_served:\n",
        "            self.number_served = number_served\n",
        "        else:\n",
        "            print(\"Number of customers served cannot be less than the previous value\")\n",
        "\n",
        "    def increment_number_served(self,number_served):\n",
        "\n",
        "        if number_served >= 0:\n",
        "            self.number_served += number_served\n",
        "\n",
        "restaurant = Restaurant(\"Pizzaa Hut\",\"Pizza\")\n",
        "print(restaurant.restaurant_name)\n",
        "print(f\"Number of customers served: {restaurant.number_served}\")\n",
        "\n",
        "restaurant.number_served = 15\n",
        "print(f\"Number of customers served: {restaurant.number_served}\")\n",
        "\n",
        "restaurant.set_number_served(20)\n",
        "print(f\"Number of customers served: {restaurant.number_served}\")\n",
        "\n",
        "restaurant.increment_number_served(2)\n",
        "print(f\"Number of customers served: {restaurant.number_served}\")"
      ],
      "metadata": {
        "id": "P6dD0GLYL7R5",
        "colab": {
          "base_uri": "https://localhost:8080/"
        },
        "outputId": "faee825e-4b27-4aba-dc78-41c0573d69dc"
      },
      "execution_count": null,
      "outputs": [
        {
          "output_type": "stream",
          "name": "stdout",
          "text": [
            "Pizzaa Hut\n",
            "Number of customers served: 0\n",
            "Number of customers served: 15\n",
            "Number of customers served: 20\n",
            "Number of customers served: 22\n"
          ]
        }
      ]
    },
    {
      "cell_type": "code",
      "source": [
        "#9.5 Login Attempts\n",
        "\n",
        "class User:\n",
        "    def __init__(self, first_name, last_name, birthday):\n",
        "        self.first_name = first_name\n",
        "        self.last_name = last_name\n",
        "        self.birthday = birthday\n",
        "        self.login_attempts = 0\n",
        "\n",
        "\n",
        "    def describe_user(self):\n",
        "        print(f\"The user name is {self.first_name} {self.last_name} and the birthday is {self.birthday}\")\n",
        "\n",
        "    def greet_user(self):\n",
        "        print(f\"Hello {self.first_name} {self.last_name}\")\n",
        "\n",
        "    def increment_login_attempts(self):\n",
        "        self.login_attempts += 1\n",
        "\n",
        "    def reset_login_attempts(self):\n",
        "        self.login_attempts = 0\n",
        "\n",
        "# Example usage\n",
        "user_1 = User(\"John\", \"Doe\", \"01/01/1990\")\n",
        "\n",
        "user_1.increment_login_attempts()\n",
        "user_1.increment_login_attempts()\n",
        "user_1.increment_login_attempts()\n",
        "\n",
        "print(f\"Login attempts: {user_1.login_attempts}\")  # Output: Login attempts: 3\n",
        "\n",
        "user_1.reset_login_attempts()\n",
        "print(f\"Login attempts after reset: {user_1.login_attempts}\")  # Output: Login attempts after reset: 0"
      ],
      "metadata": {
        "id": "1U65BsPbL-Ir",
        "colab": {
          "base_uri": "https://localhost:8080/"
        },
        "outputId": "d72a561a-2ab9-414c-dbe3-712903c1d47a"
      },
      "execution_count": null,
      "outputs": [
        {
          "output_type": "stream",
          "name": "stdout",
          "text": [
            "Login attempts: 3\n",
            "Login attempts after reset: 0\n"
          ]
        }
      ]
    },
    {
      "cell_type": "markdown",
      "source": [
        "#Inheritance"
      ],
      "metadata": {
        "id": "f-tvSnUSMAup"
      }
    },
    {
      "cell_type": "code",
      "source": [
        "# 9.6  Ice Cream Stand:\n",
        "\n",
        "class IceCreamStand(Restaurant):\n",
        "    def __init__(self, restaurant_name, cuisine_type = \"Ice Cream\"):\n",
        "        super().__init__(restaurant_name, cuisine_type)\n",
        "        self.flavors = []\n",
        "\n",
        "    def display_flavors(self):\n",
        "        if self.flavors:\n",
        "            print(f\"{self.restaurant_name} offers the following flavors:\")\n",
        "\n",
        "            for flavor in self.flavors:\n",
        "                    print(f\"- {flavor}\")\n",
        "        else:\n",
        "            print(f\"{self.restaurant_name} currently has no flavors available.\")\n",
        "\n",
        "store1 = IceCreamStand(\"Sweed Icreams\")\n",
        "store1.flavors = [\"Vanilla\", \"Chocolate\", \"Strawberry\"]\n",
        "\n",
        "store1.describe_restaurant()\n",
        "store1.display_flavors()\n"
      ],
      "metadata": {
        "colab": {
          "base_uri": "https://localhost:8080/"
        },
        "id": "S3IEgLwwW60A",
        "outputId": "51d548d2-d2b2-4dad-94b4-ebb0019b597d"
      },
      "execution_count": null,
      "outputs": [
        {
          "output_type": "stream",
          "name": "stdout",
          "text": [
            "The restaurant name is Sweed Icreams and the cuisine type is Ice Cream\n",
            "Sweed Icreams offers the following flavors:\n",
            "- Vanilla\n",
            "- Chocolate\n",
            "- Strawberry\n"
          ]
        }
      ]
    },
    {
      "cell_type": "code",
      "source": [
        "#9.7 Admin\n",
        "\n",
        "class Admin(User):\n",
        "\n",
        "    def __init__(self, first_name, last_name, birthday):\n",
        "\n",
        "        super().__init__(first_name, last_name, birthday)\n",
        "        self.privileges = []\n",
        "\n",
        "    def show_privileges(self):\n",
        "\n",
        "        i = 0\n",
        "\n",
        "        if self.privileges:\n",
        "            print(f\"{self.first_name} {self.last_name} has the following privileges:\")\n",
        "            for privilege in self.privileges:\n",
        "                i += 1\n",
        "                print(f\"{i}. {privilege}\")\n",
        "        else:\n",
        "            print(f\"{self.first_name} {self.last_name} has no privileges.\")\n",
        "\n",
        "admin_user = Admin(\"Neiser\", \"Julca\", \"01/01/2000\")\n",
        "admin_user.privileges = [\"can add post\", \"can delete post\", \"can ban user\"]\n",
        "\n",
        "admin_user.describe_user()\n",
        "admin_user.show_privileges()\n"
      ],
      "metadata": {
        "colab": {
          "base_uri": "https://localhost:8080/"
        },
        "id": "fWAzuTrFlpTZ",
        "outputId": "b2b35e7f-9747-4080-9035-a734fc0dd263"
      },
      "execution_count": null,
      "outputs": [
        {
          "output_type": "stream",
          "name": "stdout",
          "text": [
            "The user name is Neiser Julca and the birthday is 01/01/2000\n",
            "Neiser Julca has the following privileges:\n",
            "1. can add post\n",
            "2. can delete post\n",
            "3. can ban user\n"
          ]
        }
      ]
    },
    {
      "cell_type": "code",
      "source": [
        "#9.8 Privileges\n",
        "\n",
        "class Privileges:\n",
        "\n",
        "    def __init__(self):\n",
        "        self.privileges = [\"can add post\", \"can delete post\", \"can ban user\"]\n",
        "\n",
        "\n",
        "    def show_privileges(self):\n",
        "        if self.privileges:\n",
        "            print(\"Admin has the following privileges:\")\n",
        "            for privilege in self.privileges:\n",
        "                print(f\"- {privilege}\")\n",
        "        else:\n",
        "            print(\"Admin has no privileges.\")\n",
        "\n",
        "class Admin(User):\n",
        "\n",
        "    def __init__(self, first_name, last_name, birthday):\n",
        "\n",
        "        super().__init__(first_name, last_name, birthday)\n",
        "        self.privileges = Privileges()\n",
        "\n",
        "admin_user = Admin(\"Neiser\", \"Julca\", \"01/01/2000\")\n",
        "\n",
        "admin_user.describe_user()\n",
        "admin_user.privileges.show_privileges()"
      ],
      "metadata": {
        "colab": {
          "base_uri": "https://localhost:8080/"
        },
        "id": "Rkb6neuYolzT",
        "outputId": "9548569e-a099-4630-a4c3-edcb287aa2a0"
      },
      "execution_count": null,
      "outputs": [
        {
          "output_type": "stream",
          "name": "stdout",
          "text": [
            "The user name is Neiser Julca and the birthday is 01/01/2000\n",
            "Admin has the following privileges:\n",
            "- can add post\n",
            "- can delete post\n",
            "- can ban user\n"
          ]
        }
      ]
    },
    {
      "cell_type": "markdown",
      "source": [
        "#The Python Standard library"
      ],
      "metadata": {
        "id": "x6uiHgh3OJ72"
      }
    },
    {
      "cell_type": "code",
      "source": [
        "#9.13 Dice\n",
        "import random\n",
        "\n",
        "class Die:\n",
        "    def __init__(self, sides=6):\n",
        "        self.sides = sides\n",
        "\n",
        "    def roll_die(self):\n",
        "        result = random.randint(1, self.sides)\n",
        "        print(f\"The result of the roll is: {result}\")\n",
        "\n",
        "six_sides_die = Die()\n",
        "print(\"6-sided die rolls:\")\n",
        "for _ in range(10):\n",
        "    six_sides_die.roll_die()\n",
        "print(\"\")\n",
        "\n",
        "print(\"10-sided die rolls:\")\n",
        "ten_sides_die = Die(sides=10)\n",
        "for _ in range(10):\n",
        "    ten_sides_die.roll_die()\n",
        "print(\"\")\n",
        "\n",
        "\n",
        "print(\"20-sided die rolls:\")\n",
        "twenty_sides_die = Die(sides=20)\n",
        "for _ in range(10):\n",
        "    twenty_sides_die.roll_die()"
      ],
      "metadata": {
        "colab": {
          "base_uri": "https://localhost:8080/"
        },
        "id": "9zpvlTdeOpJX",
        "outputId": "a3ea0b0d-0ba7-4ac1-c397-710d9ea3f647"
      },
      "execution_count": null,
      "outputs": [
        {
          "output_type": "stream",
          "name": "stdout",
          "text": [
            "6-sided die rolls:\n",
            "The result of the roll is: 6\n",
            "The result of the roll is: 2\n",
            "The result of the roll is: 6\n",
            "The result of the roll is: 5\n",
            "The result of the roll is: 2\n",
            "The result of the roll is: 2\n",
            "The result of the roll is: 2\n",
            "The result of the roll is: 2\n",
            "The result of the roll is: 2\n",
            "The result of the roll is: 1\n",
            "\n",
            "10-sided die rolls:\n",
            "The result of the roll is: 9\n",
            "The result of the roll is: 3\n",
            "The result of the roll is: 6\n",
            "The result of the roll is: 3\n",
            "The result of the roll is: 6\n",
            "The result of the roll is: 9\n",
            "The result of the roll is: 10\n",
            "The result of the roll is: 8\n",
            "The result of the roll is: 3\n",
            "The result of the roll is: 2\n",
            "\n",
            "20-sided die rolls:\n",
            "The result of the roll is: 15\n",
            "The result of the roll is: 19\n",
            "The result of the roll is: 2\n",
            "The result of the roll is: 9\n",
            "The result of the roll is: 14\n",
            "The result of the roll is: 1\n",
            "The result of the roll is: 10\n",
            "The result of the roll is: 1\n",
            "The result of the roll is: 8\n",
            "The result of the roll is: 16\n"
          ]
        }
      ]
    },
    {
      "cell_type": "code",
      "source": [
        "#9.14 Lottery\n",
        "\n",
        "from random import choice\n",
        "\n",
        "lottery = [1,2,3,4,5,6,7,8,9,0,\"z\",\"x\",\"c\",\"v\"]\n",
        "\n",
        "winning_ticket = \"\"\n",
        "\n",
        "for i in range(4):\n",
        "    n = choice(lottery)\n",
        "    n = str(n)\n",
        "\n",
        "    winning_ticket += n\n",
        "\n",
        "print(\"Lottery Draw Results:\")\n",
        "print(f\"Any ticket matching these numbers or letters wins a prize: {winning_ticket}\")\n"
      ],
      "metadata": {
        "colab": {
          "base_uri": "https://localhost:8080/"
        },
        "id": "gaGbBrsZxXOo",
        "outputId": "8848ef0e-70f8-4e5e-9759-63584b8d6117"
      },
      "execution_count": null,
      "outputs": [
        {
          "output_type": "stream",
          "name": "stdout",
          "text": [
            "Lottery Draw Results:\n",
            "Any ticket matching these numbers or letters wins a prize: v3v4\n"
          ]
        }
      ]
    },
    {
      "cell_type": "code",
      "source": [
        "#9.15 Lottery Analysis\n",
        "\n",
        "import random\n",
        "\n",
        "lottery = [1,2,3,4,5,6,7,8,9,0,\"z\",\"x\",\"c\",\"v\"]\n",
        "my_ticket = [2, 3, \"z\", \"x\"]\n",
        "\n",
        "times = 1\n",
        "\n",
        "while True:\n",
        "\n",
        "    winning_ticket = sample(lottery, 4)\n",
        "\n",
        "    if my_ticket == winning_ticket:\n",
        "        print(f\"My ticket won the lottery after {times} tries!\")\n",
        "        break\n",
        "\n",
        "    times += 1\n"
      ],
      "metadata": {
        "colab": {
          "base_uri": "https://localhost:8080/"
        },
        "id": "ehdyMicIV6b1",
        "outputId": "33c4724b-9620-4fa1-a19b-5ea14e685d7b"
      },
      "execution_count": null,
      "outputs": [
        {
          "output_type": "stream",
          "name": "stdout",
          "text": [
            "My ticket won the lottery after 15193 tries!\n"
          ]
        }
      ]
    },
    {
      "cell_type": "code",
      "source": [
        "#9.16 Python module of the week\n",
        "\n",
        "#web: https://pymotw.com"
      ],
      "metadata": {
        "id": "2JUvMpvpchL3"
      },
      "execution_count": 1,
      "outputs": []
    }
  ]
}